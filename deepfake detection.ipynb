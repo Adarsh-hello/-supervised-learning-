{
  "nbformat": 4,
  "nbformat_minor": 0,
  "metadata": {
    "colab": {
      "provenance": [],
      "authorship_tag": "ABX9TyNw5QgO+Fypcjf4yoBRSPmP",
      "include_colab_link": true
    },
    "kernelspec": {
      "name": "python3",
      "display_name": "Python 3"
    },
    "language_info": {
      "name": "python"
    }
  },
  "cells": [
    {
      "cell_type": "markdown",
      "metadata": {
        "id": "view-in-github",
        "colab_type": "text"
      },
      "source": [
        "<a href=\"https://colab.research.google.com/github/Adarsh-hello/-supervised-learning-/blob/main/deepfake%20detection.ipynb\" target=\"_parent\"><img src=\"https://colab.research.google.com/assets/colab-badge.svg\" alt=\"Open In Colab\"/></a>"
      ]
    },
    {
      "cell_type": "code",
      "execution_count": null,
      "metadata": {
        "id": "S7Qoflv59eQU"
      },
      "outputs": [],
      "source": [
        "\n",
        "# !pip install tensorflow opencv-python\n",
        "\n",
        "import os\n",
        "import cv2\n",
        "import numpy as np\n",
        "import zipfile\n",
        "import matplotlib.pyplot as plt\n",
        "from sklearn.model_selection import train_test_split\n",
        "from tensorflow.keras.utils import to_categorical\n",
        "from tensorflow.keras.models import Sequential\n",
        "from tensorflow.keras.layers import Conv2D, MaxPooling2D, Flatten, Dense"
      ]
    },
    {
      "cell_type": "code",
      "source": [
        "\n",
        "\n",
        "# ✅ Make folders for extracted data (not for zip files!)\n",
        "os.makedirs(\"/content/data/real\", exist_ok=True)\n",
        "os.makedirs(\"/content/data/fake1\", exist_ok=True)\n",
        "\n",
        "# ✅ Define ZIP file paths (assuming you've uploaded these already)\n",
        "real_zip_path = \"/content/real1.zip\"\n",
        "fake_zip_path = \"/content/fake1.zip\"\n",
        "# ✅ Extract real.zip\n",
        "with zipfile.ZipFile(real_zip_path, 'r') as zip_ref:\n",
        "    zip_ref.extractall(\"/content/data/real\")\n",
        "print(\"✅ Extracted real.zip to /content/data/real\")\n",
        "\n",
        "# ✅ Extract fake.zip\n",
        "with zipfile.ZipFile(fake_zip_path, 'r') as zip_ref:\n",
        "    zip_ref.extractall(\"/content/data/fake1\")\n",
        "print(\"✅ Extracted fake.zip to /content/data/fake1\")\n"
      ],
      "metadata": {
        "id": "alU89ro99f7B"
      },
      "execution_count": null,
      "outputs": []
    },
    {
      "cell_type": "code",
      "source": [
        "# ✅ STEP 4: Image loading function\n",
        "\n",
        "\n",
        "def load_images_recursive(real_dir, fake_dir, img_height=128, img_width=128):\n",
        "    images, labels = [], []\n",
        "    for label, folder in enumerate([real_dir, fake_dir]):  # 0 = real, 1 = fake\n",
        "        for root, _, files in os.walk(folder):  # Walk through subdirectories\n",
        "            for filename in files:\n",
        "                if filename.lower().endswith(('.jpg', '.jpeg', '.png', '.tif', '.bmp')):\n",
        "                    path = os.path.join(root, filename)  # Get full path\n",
        "                    img = cv2.imread(path)\n",
        "                    if img is not None:\n",
        "                        img = cv2.resize(img, (img_width, img_height))\n",
        "                        img = img / 255.0\n",
        "                        images.append(img)\n",
        "                        labels.append(label)\n",
        "        # Check if any images were loaded for the current label\n",
        "        if not any(label_val == label for label_val in labels):\n",
        "            print(f\"⚠️ Warning: No images found in {folder} with label {label}\")\n",
        "    # Check if any images were loaded at all\n",
        "    if not images:\n",
        "        raise ValueError(\"❌ No images were loaded. Check your image directories and formats.\")\n",
        "    return np.array(images), np.array(labels)"
      ],
      "metadata": {
        "id": "-wTN-_2D9f-Y"
      },
      "execution_count": null,
      "outputs": []
    },
    {
      "cell_type": "code",
      "source": [
        "import os\n",
        "\n",
        "print(\"📂 Real images found:\", len(os.listdir(\"/content/data/real1\")))\n",
        "print(\"📂 Fake images found:\", len(os.listdir(\"/content/data/fake1\")))\n"
      ],
      "metadata": {
        "id": "x2EndxIu9gBx"
      },
      "execution_count": null,
      "outputs": []
    },
    {
      "cell_type": "code",
      "source": [
        "!ls -R /content/data/real\n",
        "!ls -R /content/data/fake1\n"
      ],
      "metadata": {
        "id": "lenmNAxC9gE1"
      },
      "execution_count": null,
      "outputs": []
    },
    {
      "cell_type": "code",
      "source": [
        "real_dir = \"/content/data/real\"\n",
        "fake_dir = \"/content/data/fake1\"\n",
        "\n",
        "X, y = load_images_recursive(real_dir, fake_dir)\n",
        "\n",
        "print(f\"✅ X shape: {X.shape}\")\n",
        "print(f\"✅ y shape: {y.shape}\")\n"
      ],
      "metadata": {
        "id": "aMPmxf_R9gH5"
      },
      "execution_count": null,
      "outputs": []
    },
    {
      "cell_type": "code",
      "source": [
        "from tensorflow.keras.utils import to_categorical\n",
        "from sklearn.model_selection import train_test_split\n",
        "y_cat = to_categorical(y)\n",
        "X_train, X_test, y_train, y_test = train_test_split(X, y_cat, test_size=0.2, random_state=42)\n"
      ],
      "metadata": {
        "id": "LRYIilq09gK7"
      },
      "execution_count": null,
      "outputs": []
    },
    {
      "cell_type": "code",
      "source": [
        "# ✅ STEP 6: Simple CNN Model\n",
        "model = Sequential([\n",
        "    Conv2D(32, (3, 3), activation='relu', input_shape=(128, 128, 3)),\n",
        "    MaxPooling2D(2, 2),\n",
        "    Conv2D(64, (3, 3), activation='relu'),\n",
        "    MaxPooling2D(2, 2),\n",
        "    Flatten(),\n",
        "    Dense(64, activation='relu'),\n",
        "    Dense(2, activation='softmax')  # 2 output: real or fake\n",
        "])\n",
        "\n",
        "model.compile(optimizer='adam', loss='categorical_crossentropy', metrics=['accuracy'])"
      ],
      "metadata": {
        "id": "Fbhxnxuy9gOD"
      },
      "execution_count": null,
      "outputs": []
    },
    {
      "cell_type": "code",
      "source": [
        "# ✅ STEP 7: Train the model\n",
        "model.fit(X_train, y_train, epochs=5, batch_size=32, validation_data=(X_test, y_test))"
      ],
      "metadata": {
        "id": "m9Nq6u8W9gRO"
      },
      "execution_count": null,
      "outputs": []
    },
    {
      "cell_type": "code",
      "source": [
        "# 📌 Step 8: Save the Model\n",
        "model.save(\"deepfake_detection.h5\")"
      ],
      "metadata": {
        "id": "GXmPIZOA9gUU"
      },
      "execution_count": null,
      "outputs": []
    },
    {
      "cell_type": "code",
      "source": [
        "loss, accuracy = model.evaluate(X_test, y_test)\n",
        "print(f\"📊 Test Accuracy: {accuracy * 100:.2f}%\")\n"
      ],
      "metadata": {
        "id": "VR2kWSUy9gXd"
      },
      "execution_count": null,
      "outputs": []
    },
    {
      "cell_type": "code",
      "source": [
        "from tensorflow.keras.models import load_model\n",
        "\n",
        "# ✅ Correct the file path to use the .h5 extension\n",
        "loaded_model = load_model(\"deepfake_detection.h5\")\n",
        "print(\"✅ Model loaded successfully!\")\n"
      ],
      "metadata": {
        "id": "akOsHLqZ9gak"
      },
      "execution_count": null,
      "outputs": []
    },
    {
      "cell_type": "code",
      "source": [
        "model.evaluate(X_test, y_test)\n"
      ],
      "metadata": {
        "id": "tsbmJOSo9gdl"
      },
      "execution_count": null,
      "outputs": []
    },
    {
      "cell_type": "code",
      "source": [
        "# Step 1: Install required packages\n",
        "!pip install flask flask-ngrok pyngrok tensorflow keras\n",
        "!pip install pyngrok"
      ],
      "metadata": {
        "id": "mpt3sq3E9ggr"
      },
      "execution_count": null,
      "outputs": []
    },
    {
      "cell_type": "code",
      "source": [
        "# Step 2: Setup Flask app + ngrok token\n",
        "from flask import Flask, request, render_template_string\n",
        "from pyngrok import ngrok\n",
        "import tensorflow as tf\n",
        "import numpy as np\n",
        "from PIL import Image\n",
        "import io\n",
        "\n",
        "# Step 3: Set your NGROK auth token (replace with your actual token!)\n",
        "ngrok.set_auth_token(\"2vd6jnAHywHQhQMsUBi5gKvckBv_7hq1yKFjiiGVsUKvFrH3Z\")\n",
        "\n",
        "# Step 4: Load your trained CNN model\n",
        "model = tf.keras.models.load_model('deepfake_detection.h5')\n",
        "\n",
        "# Step 5: Create Flask app\n",
        "app = Flask(__name__)\n",
        "\n",
        "# Step 6: HTML Template\n",
        "html = '''\n",
        "<!DOCTYPE html>\n",
        "<html>\n",
        "<head><title>Deepfake Detection</title></head>\n",
        "<body style=\"text-align:center;\">\n",
        "  <h2>Deepfake Detection</h2>\n",
        "  <form method=\"POST\" enctype=\"multipart/form-data\">\n",
        "    <input type=\"file\" name=\"file\"><br><br>\n",
        "    <input type=\"submit\" value=\"Upload and Predict\">\n",
        "  </form>\n",
        "  {% if result %}\n",
        "    <h3>Result: {{ result }}</h3>\n",
        "  {% endif %}\n",
        "</body>\n",
        "</html>\n",
        "'''\n",
        "\n",
        "# Step 7: Define route\n",
        "@app.route('/', methods=['GET', 'POST'])\n",
        "def upload_predict():\n",
        "    result = None\n",
        "    if request.method == 'POST':\n",
        "        file = request.files['file']\n",
        "        if file:\n",
        "            image = Image.open(io.BytesIO(file.read()))\n",
        "            image = image.resize((128, 128))\n",
        "            img_array = np.expand_dims(np.array(image)/255.0, axis=0)\n",
        "            prediction = model.predict(img_array)[0][0]\n",
        "            result = \"FAKE\" if prediction > 0.5 else \"REAL\"\n",
        "    return render_template_string(html, result=result)\n",
        "\n",
        "# Step 8: Start server + ngrok tunnel\n",
        "port = 5000\n",
        "public_url = ngrok.connect(port)\n",
        "print(\" * ngrok tunnel link:\", public_url)\n",
        "\n",
        "app.run(port=port)\n"
      ],
      "metadata": {
        "id": "VWYCeRPc9gjv"
      },
      "execution_count": null,
      "outputs": []
    },
    {
      "cell_type": "code",
      "source": [],
      "metadata": {
        "id": "NahS_Mci9gnI"
      },
      "execution_count": null,
      "outputs": []
    },
    {
      "cell_type": "code",
      "source": [],
      "metadata": {
        "id": "a1_FF_Pr9gqM"
      },
      "execution_count": null,
      "outputs": []
    },
    {
      "cell_type": "code",
      "source": [],
      "metadata": {
        "id": "XnsL1tzK9gtQ"
      },
      "execution_count": null,
      "outputs": []
    },
    {
      "cell_type": "code",
      "source": [],
      "metadata": {
        "id": "a3LZd5uh9gwq"
      },
      "execution_count": null,
      "outputs": []
    },
    {
      "cell_type": "code",
      "source": [],
      "metadata": {
        "id": "LVcX1bw69gzu"
      },
      "execution_count": null,
      "outputs": []
    },
    {
      "cell_type": "code",
      "source": [],
      "metadata": {
        "id": "qeypazj09g2_"
      },
      "execution_count": null,
      "outputs": []
    },
    {
      "cell_type": "code",
      "source": [],
      "metadata": {
        "id": "NQrmxNcz9g53"
      },
      "execution_count": null,
      "outputs": []
    },
    {
      "cell_type": "code",
      "source": [],
      "metadata": {
        "id": "RhT8tQaT9g9b"
      },
      "execution_count": null,
      "outputs": []
    },
    {
      "cell_type": "code",
      "source": [],
      "metadata": {
        "id": "5m98LTdh9hAV"
      },
      "execution_count": null,
      "outputs": []
    },
    {
      "cell_type": "code",
      "source": [],
      "metadata": {
        "id": "6DjjZJ-89hDY"
      },
      "execution_count": null,
      "outputs": []
    },
    {
      "cell_type": "code",
      "source": [],
      "metadata": {
        "id": "4laIjzSW9hGZ"
      },
      "execution_count": null,
      "outputs": []
    },
    {
      "cell_type": "code",
      "source": [],
      "metadata": {
        "id": "tiaiMHVb9hJc"
      },
      "execution_count": null,
      "outputs": []
    },
    {
      "cell_type": "code",
      "source": [],
      "metadata": {
        "id": "oe8WyHBO9hMY"
      },
      "execution_count": null,
      "outputs": []
    },
    {
      "cell_type": "code",
      "source": [],
      "metadata": {
        "id": "VFaoeZlv9hPM"
      },
      "execution_count": null,
      "outputs": []
    },
    {
      "cell_type": "code",
      "source": [],
      "metadata": {
        "id": "tY30J_Um9hSX"
      },
      "execution_count": null,
      "outputs": []
    },
    {
      "cell_type": "code",
      "source": [],
      "metadata": {
        "id": "Qd91nB979hVV"
      },
      "execution_count": null,
      "outputs": []
    },
    {
      "cell_type": "code",
      "source": [],
      "metadata": {
        "id": "Ej83eYH49hYS"
      },
      "execution_count": null,
      "outputs": []
    },
    {
      "cell_type": "code",
      "source": [],
      "metadata": {
        "id": "2N1Z2nVI9hbJ"
      },
      "execution_count": null,
      "outputs": []
    },
    {
      "cell_type": "code",
      "source": [],
      "metadata": {
        "id": "BqJge88R9hd_"
      },
      "execution_count": null,
      "outputs": []
    },
    {
      "cell_type": "code",
      "source": [],
      "metadata": {
        "id": "5fNyOkCA9hgw"
      },
      "execution_count": null,
      "outputs": []
    },
    {
      "cell_type": "code",
      "source": [],
      "metadata": {
        "id": "WhmautSn9hju"
      },
      "execution_count": null,
      "outputs": []
    },
    {
      "cell_type": "code",
      "source": [],
      "metadata": {
        "id": "KhqiSJIB9hmm"
      },
      "execution_count": null,
      "outputs": []
    },
    {
      "cell_type": "code",
      "source": [],
      "metadata": {
        "id": "ObwgvhCm9hpa"
      },
      "execution_count": null,
      "outputs": []
    },
    {
      "cell_type": "code",
      "source": [],
      "metadata": {
        "id": "n9F9_vRr9hsM"
      },
      "execution_count": null,
      "outputs": []
    },
    {
      "cell_type": "code",
      "source": [],
      "metadata": {
        "id": "yGwXxhkF9hu2"
      },
      "execution_count": null,
      "outputs": []
    },
    {
      "cell_type": "code",
      "source": [],
      "metadata": {
        "id": "zVmJgRKc9hxu"
      },
      "execution_count": null,
      "outputs": []
    },
    {
      "cell_type": "code",
      "source": [],
      "metadata": {
        "id": "b0QpVSwa9h0d"
      },
      "execution_count": null,
      "outputs": []
    },
    {
      "cell_type": "code",
      "source": [],
      "metadata": {
        "id": "X4XPhHng9h4F"
      },
      "execution_count": null,
      "outputs": []
    }
  ]
}